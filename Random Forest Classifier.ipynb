{
 "cells": [
  {
   "cell_type": "code",
   "execution_count": 1,
   "metadata": {
    "scrolled": true
   },
   "outputs": [
    {
     "name": "stdout",
     "output_type": "stream",
     "text": [
      "[[459   0]\n",
      " [  8 332]]\n",
      "              precision    recall  f1-score   support\n",
      "\n",
      "           0       0.98      1.00      0.99       459\n",
      "           1       1.00      0.98      0.99       340\n",
      "\n",
      "   micro avg       0.99      0.99      0.99       799\n",
      "   macro avg       0.99      0.99      0.99       799\n",
      "weighted avg       0.99      0.99      0.99       799\n",
      "\n",
      "Accuracy Score:  0.9899874843554443\n",
      "OOB Score:  0.9698492462311558\n"
     ]
    }
   ],
   "source": [
    "import pandas as pd\n",
    "\n",
    "dataset = pd.read_csv('C:/Users/Albert/Dropbox/SF_State/CSC_699-AI/Synthetic_data-variable_values_for_features.csv')\n",
    "\n",
    "x = dataset.iloc[16:1015, 0:9].values\n",
    "y = dataset.iloc[16:1015, 10].values\n",
    "\n",
    "from sklearn.model_selection import train_test_split\n",
    "\n",
    "x_train, x_test, y_train, y_test = train_test_split(x, y, test_size = .8)\n",
    "\n",
    "from sklearn.ensemble import RandomForestClassifier\n",
    "\n",
    "classifier = RandomForestClassifier(n_estimators = 100, oob_score = True)\n",
    "classifier.fit(x_train, y_train)\n",
    "\n",
    "y_pred = classifier.predict(x_test)\n",
    "\n",
    "from sklearn.metrics import classification_report, confusion_matrix, accuracy_score\n",
    "\n",
    "print(confusion_matrix(y_test,y_pred))\n",
    "print(classification_report(y_test,y_pred))\n",
    "print('Accuracy Score: ', accuracy_score(y_test, y_pred))\n",
    "print('OOB Score: ',classifier.oob_score_)"
   ]
  },
  {
   "cell_type": "code",
   "execution_count": 3,
   "metadata": {},
   "outputs": [
    {
     "name": "stdout",
     "output_type": "stream",
     "text": [
      "[[251   0]\n",
      " [  8 183]]\n",
      "              precision    recall  f1-score   support\n",
      "\n",
      "           0       0.97      1.00      0.98       251\n",
      "           1       1.00      0.96      0.98       191\n",
      "\n",
      "   micro avg       0.98      0.98      0.98       442\n",
      "   macro avg       0.98      0.98      0.98       442\n",
      "weighted avg       0.98      0.98      0.98       442\n",
      "\n",
      "Accuracy Score:  0.9819004524886877\n",
      "OOB Score:  0.987410071942446\n"
     ]
    }
   ],
   "source": [
    "import pandas as pd\n",
    "\n",
    "dataset = pd.read_csv('C:/Users/Albert/Dropbox/SF_State/CSC_699-AI/Synthetic_data-variable_values_for_features-Rand().csv')\n",
    "\n",
    "x = dataset.iloc[16:1015, 0:9].values \n",
    "y = dataset.iloc[16:1015, 10].values\n",
    "\n",
    "from sklearn.model_selection import train_test_split\n",
    "\n",
    "x_train, x_test, y_train, y_test = train_test_split(x, y, test_size = .442)\n",
    "\n",
    "from sklearn.ensemble import RandomForestClassifier\n",
    "\n",
    "classifier = RandomForestClassifier(n_estimators = 100, oob_score = True) \n",
    "classifier.fit(x_train, y_train)\n",
    "\n",
    "y_pred = classifier.predict(x_test)\n",
    "\n",
    "from sklearn.metrics import classification_report, confusion_matrix, accuracy_score\n",
    "\n",
    "print(confusion_matrix(y_test,y_pred))\n",
    "print(classification_report(y_test,y_pred))\n",
    "print('Accuracy Score: ', accuracy_score(y_test, y_pred)) \n",
    "print('OOB Score: ',classifier.oob_score_)"
   ]
  },
  {
   "cell_type": "code",
   "execution_count": 6,
   "metadata": {},
   "outputs": [
    {
     "name": "stdout",
     "output_type": "stream",
     "text": [
      "[[260   0]\n",
      " [  4 178]]\n",
      "              precision    recall  f1-score   support\n",
      "\n",
      "           0       0.98      1.00      0.99       260\n",
      "           1       1.00      0.98      0.99       182\n",
      "\n",
      "   micro avg       0.99      0.99      0.99       442\n",
      "   macro avg       0.99      0.99      0.99       442\n",
      "weighted avg       0.99      0.99      0.99       442\n",
      "\n",
      "Accuracy Score:  0.9909502262443439\n",
      "OOB Score:  0.9820143884892086\n"
     ]
    }
   ],
   "source": [
    "import pandas as pd\n",
    "\n",
    "dataset = pd.read_csv('C:/Users/Albert/Downloads/Synthetic_data-variable_values_for_features.csv')\n",
    "\n",
    "x = dataset.iloc[16:1015, 0:9].values\n",
    "y = dataset.iloc[16:1015, 10].values\n",
    "\n",
    "from sklearn.model_selection import train_test_split\n",
    "\n",
    "x_train, x_test, y_train, y_test = train_test_split(x, y, test_size = .442, random_state= 34)\n",
    "\n",
    "from sklearn.ensemble import RandomForestClassifier\n",
    "\n",
    "classifier = RandomForestClassifier(n_estimators = 100, oob_score = True)\n",
    "classifier.fit(x_train, y_train)\n",
    "\n",
    "y_pred = classifier.predict(x_test)\n",
    "\n",
    "from sklearn.metrics import classification_report, confusion_matrix, accuracy_score\n",
    "\n",
    "print(confusion_matrix(y_test,y_pred))\n",
    "print(classification_report(y_test,y_pred))\n",
    "print('Accuracy Score: ', accuracy_score(y_test, y_pred))\n",
    "print('OOB Score: ',classifier.oob_score_)"
   ]
  },
  {
   "cell_type": "code",
   "execution_count": 5,
   "metadata": {},
   "outputs": [
    {
     "name": "stdout",
     "output_type": "stream",
     "text": [
      "[[257   0]\n",
      " [  6 179]]\n",
      "              precision    recall  f1-score   support\n",
      "\n",
      "           0       0.98      1.00      0.99       257\n",
      "           1       1.00      0.97      0.98       185\n",
      "\n",
      "   micro avg       0.99      0.99      0.99       442\n",
      "   macro avg       0.99      0.98      0.99       442\n",
      "weighted avg       0.99      0.99      0.99       442\n",
      "\n",
      "Accuracy Score:  0.9864253393665159\n",
      "OOB Score:  0.9838129496402878\n"
     ]
    }
   ],
   "source": [
    "import pandas as pd\n",
    "\n",
    "dataset = pd.read_csv('C:/Users/Albert/Dropbox/SF_State/CSC_699-AI/Synthetic_data-variable_values_for_features-Rand().csv')\n",
    "\n",
    "x = dataset.iloc[16:1015, 0:9].values\n",
    "y = dataset.iloc[16:1015, 10].values\n",
    "\n",
    "from sklearn.model_selection import train_test_split\n",
    "\n",
    "x_train, x_test, y_train, y_test = train_test_split(x, y, test_size = .442, random_state= 34)\n",
    "\n",
    "from sklearn.ensemble import RandomForestClassifier\n",
    "\n",
    "classifier = RandomForestClassifier(n_estimators = 100, oob_score = True)\n",
    "classifier.fit(x_train, y_train)\n",
    "\n",
    "y_pred = classifier.predict(x_test)\n",
    "\n",
    "from sklearn.metrics import classification_report, confusion_matrix, accuracy_score\n",
    "\n",
    "print(confusion_matrix(y_test,y_pred))\n",
    "print(classification_report(y_test,y_pred))\n",
    "print('Accuracy Score: ', accuracy_score(y_test, y_pred))\n",
    "print('OOB Score: ',classifier.oob_score_)"
   ]
  },
  {
   "cell_type": "code",
   "execution_count": null,
   "metadata": {},
   "outputs": [],
   "source": []
  }
 ],
 "metadata": {
  "kernelspec": {
   "display_name": "Python 3",
   "language": "python",
   "name": "python3"
  },
  "language_info": {
   "codemirror_mode": {
    "name": "ipython",
    "version": 3
   },
   "file_extension": ".py",
   "mimetype": "text/x-python",
   "name": "python",
   "nbconvert_exporter": "python",
   "pygments_lexer": "ipython3",
   "version": "3.7.1"
  }
 },
 "nbformat": 4,
 "nbformat_minor": 2
}
